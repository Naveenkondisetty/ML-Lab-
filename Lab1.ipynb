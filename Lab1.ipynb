{
  "nbformat": 4,
  "nbformat_minor": 0,
  "metadata": {
    "colab": {
      "provenance": [],
      "authorship_tag": "ABX9TyNjxIc/MlkEnHkQAZ97b5Ix",
      "include_colab_link": true
    },
    "kernelspec": {
      "name": "python3",
      "display_name": "Python 3"
    },
    "language_info": {
      "name": "python"
    }
  },
  "cells": [
    {
      "cell_type": "markdown",
      "metadata": {
        "id": "view-in-github",
        "colab_type": "text"
      },
      "source": [
        "<a href=\"https://colab.research.google.com/github/Naveenkondisetty/ML-Lab-/blob/main/Lab1.ipynb\" target=\"_parent\"><img src=\"https://colab.research.google.com/assets/colab-badge.svg\" alt=\"Open In Colab\"/></a>"
      ]
    },
    {
      "cell_type": "code",
      "execution_count": 13,
      "metadata": {
        "colab": {
          "base_uri": "https://localhost:8080/"
        },
        "id": "_LrTOXWsgM2K",
        "outputId": "01f54e7d-dc02-470a-c9db-80d438d8c841"
      },
      "outputs": [
        {
          "output_type": "stream",
          "name": "stdout",
          "text": [
            "\n",
            "The most general hypothesis: ['?','?','?','?','?','?']\n",
            "\n",
            "\n",
            "The most specific hypothesis: ['0','0','0','0','0','0']\n",
            "\n"
          ]
        }
      ],
      "source": [
        "import csv\n",
        "\n",
        "# Attributes used in the dataset (not directly used in the code, just for reference)\n",
        "attributes = [['Sunny', 'Rainy'],\n",
        "              ['Warm', 'Cold'],\n",
        "              ['Normal', 'High'],\n",
        "              ['Strong', 'Weak'],\n",
        "              ['Warm', 'Cool'],\n",
        "              ['Same', 'Change']]\n",
        "\n",
        "num_attributes = len(attributes)\n",
        "\n",
        "# Displaying general and specific hypotheses\n",
        "print(\"\\nThe most general hypothesis: ['?','?','?','?','?','?']\\n\")\n",
        "print(\"\\nThe most specific hypothesis: ['0','0','0','0','0','0']\\n\")"
      ]
    },
    {
      "cell_type": "code",
      "source": [
        "# List to store the training data\n",
        "data = []\n",
        "\n",
        "# Reading the CSV file\n",
        "print(\"\\nThe Given Training Data Set\\n\")\n",
        "with open('/content/Lab1.csv', 'r') as csvFile:\n",
        "    reader = csv.reader(csvFile)\n",
        "    for row in reader:\n",
        "        data.append(row)\n",
        "        print(row)\n"
      ],
      "metadata": {
        "colab": {
          "base_uri": "https://localhost:8080/"
        },
        "id": "-mFUIalOgT0M",
        "outputId": "f27fd08e-337c-40ba-b359-f56d555f658d"
      },
      "execution_count": 14,
      "outputs": [
        {
          "output_type": "stream",
          "name": "stdout",
          "text": [
            "\n",
            "The Given Training Data Set\n",
            "\n",
            "['Sunny', 'Warm', 'Normal', 'Strong', 'Warm', 'Same', 'Yes']\n",
            "['Sunny', 'Warm', 'High', 'Strong', 'Warm', 'Same', 'Yes']\n",
            "['Rainy', 'Cold', 'High', 'Strong', 'Warm', 'Change', 'No']\n",
            "['Sunny', 'Warm', 'High', 'Strong', 'Cool', 'Change', 'Yes']\n"
          ]
        }
      ]
    },
    {
      "cell_type": "code",
      "source": [
        "# Initial hypothesis (most specific)\n",
        "print(\"\\nThe initial value of hypothesis:\")\n",
        "hypothesis = ['0'] * num_attributes\n",
        "print(hypothesis)"
      ],
      "metadata": {
        "colab": {
          "base_uri": "https://localhost:8080/"
        },
        "id": "vl4qzP5IgYcJ",
        "outputId": "6ed0800b-51e7-4c27-ce5a-bbf561588823"
      },
      "execution_count": 15,
      "outputs": [
        {
          "output_type": "stream",
          "name": "stdout",
          "text": [
            "\n",
            "The initial value of hypothesis:\n",
            "['0', '0', '0', '0', '0', '0']\n"
          ]
        }
      ]
    },
    {
      "cell_type": "code",
      "source": [
        "# Comparing with the first training example\n",
        "for j in range(num_attributes):\n",
        "    hypothesis[j] = data[0][j]\n",
        "\n",
        "# Comparing with remaining training examples of the given data set\n",
        "print(\"\\nFind S: Finding a Maximally Specific Hypothesis\\n\")\n",
        "for i in range(len(data)):\n",
        "    if data[i][num_attributes] == 'Yes':  # Only consider positive examples\n",
        "        for j in range(num_attributes):\n",
        "            if data[i][j] != hypothesis[j]:\n",
        "                hypothesis[j] = '?'\n",
        "            else:\n",
        "                hypothesis[j] = data[i][j]\n",
        "    print(f\"For Training Example No {i + 1}, the hypothesis is {hypothesis}\")"
      ],
      "metadata": {
        "colab": {
          "base_uri": "https://localhost:8080/"
        },
        "id": "GqzoG9AtgcBI",
        "outputId": "ef179e84-de93-4c33-8590-ac50d3262d79"
      },
      "execution_count": 16,
      "outputs": [
        {
          "output_type": "stream",
          "name": "stdout",
          "text": [
            "\n",
            "Find S: Finding a Maximally Specific Hypothesis\n",
            "\n",
            "For Training Example No 1, the hypothesis is ['Sunny', 'Warm', 'Normal', 'Strong', 'Warm', 'Same']\n",
            "For Training Example No 2, the hypothesis is ['Sunny', 'Warm', '?', 'Strong', 'Warm', 'Same']\n",
            "For Training Example No 3, the hypothesis is ['Sunny', 'Warm', '?', 'Strong', 'Warm', 'Same']\n",
            "For Training Example No 4, the hypothesis is ['Sunny', 'Warm', '?', 'Strong', '?', '?']\n"
          ]
        }
      ]
    },
    {
      "cell_type": "code",
      "source": [
        "print(\"\\nThe Maximally Specific Hypothesis for a given Training Example:\\n\")\n",
        "print(hypothesis)"
      ],
      "metadata": {
        "colab": {
          "base_uri": "https://localhost:8080/"
        },
        "id": "Ga4a4_gaghl8",
        "outputId": "c8086cae-e9fc-4ffe-cb09-a12b4de38302"
      },
      "execution_count": 17,
      "outputs": [
        {
          "output_type": "stream",
          "name": "stdout",
          "text": [
            "\n",
            "The Maximally Specific Hypothesis for a given Training Example:\n",
            "\n",
            "['Sunny', 'Warm', '?', 'Strong', '?', '?']\n"
          ]
        }
      ]
    }
  ]
}